{
 "cells": [
  {
   "cell_type": "code",
   "execution_count": 28,
   "metadata": {},
   "outputs": [],
   "source": [
    "import functools\n",
    "\n",
    "import jax\n",
    "import jax.numpy as jnp\n",
    "from jax.experimental import optimizers\n",
    "from jax.experimental import stax\n",
    "\n",
    "import numpy as np\n",
    "import matplotlib.pyplot as plt\n",
    "\n",
    "import tensorflow_datasets as tfds\n",
    "\n",
    "from tqdm.notebook import tqdm\n",
    "\n",
    "import renn"
   ]
  },
  {
   "cell_type": "markdown",
   "metadata": {},
   "source": [
    "## Load data"
   ]
  },
  {
   "cell_type": "code",
   "execution_count": 5,
   "metadata": {},
   "outputs": [],
   "source": [
    "def load_data(sequence_length, batch_size):\n",
    "    dset_name = \"imdb_reviews/subwords8k\"\n",
    "    \n",
    "    # Load raw datasets\n",
    "    datasets, info = tfds.load(dset_name, with_info=True)\n",
    "    encoder = info.features['text'].encoder\n",
    "    \n",
    "    def pipeline(dset):\n",
    "        \"\"\"Data preprocessing pipeline.\"\"\"\n",
    "        \n",
    "        # Truncates examples longer than the sequence length.\n",
    "        dset = dset.filter(lambda d: len(d['text']) <= sequence_length)\n",
    "        \n",
    "        # Extracts features and targets\n",
    "        def _extract(d):\n",
    "            return {\n",
    "                'inputs': d['text'],\n",
    "                'labels': d['label'],\n",
    "                'index': len(d['text']),\n",
    "            }\n",
    "        dset = dset.map(_extract)\n",
    "        \n",
    "        # Cache and shuffle.\n",
    "        dset = dset.cache().shuffle(buffer_size=1024, seed=0)\n",
    "        \n",
    "        # Pad.\n",
    "        padded_shapes = {\n",
    "            'inputs': (sequence_length,),\n",
    "            'labels': (),\n",
    "            'index': (),\n",
    "        }\n",
    "        dset = dset.padded_batch(batch_size, padded_shapes)\n",
    "        return dset\n",
    "    \n",
    "    train_dset = pipeline(datasets['train'])\n",
    "    test_dset = pipeline(datasets['test'])\n",
    "    \n",
    "    return encoder, info, train_dset, test_dset"
   ]
  },
  {
   "cell_type": "code",
   "execution_count": 6,
   "metadata": {},
   "outputs": [
    {
     "name": "stderr",
     "output_type": "stream",
     "text": [
      "WARNING: Logging before flag parsing goes to stderr.\n",
      "W0724 14:18:22.434800 4676627904 text_feature.py:61] TFDS datasets with text encoding are deprecated and will be removed in a future version. Instead, you should use the plain text version and tokenize the text using `tensorflow_text` (See: https://www.tensorflow.org/tutorials/tensorflow_text/intro#tfdata_example)\n"
     ]
    },
    {
     "name": "stdout",
     "output_type": "stream",
     "text": [
      "\u001b[1mDownloading and preparing dataset imdb_reviews/subwords8k/1.0.0 (download: 80.23 MiB, generated: Unknown size, total: 80.23 MiB) to /Users/nirum/tensorflow_datasets/imdb_reviews/subwords8k/1.0.0...\u001b[0m\n"
     ]
    },
    {
     "data": {
      "application/vnd.jupyter.widget-view+json": {
       "model_id": "5ba4f2ab943e4611b8f22a32b1e49cee",
       "version_major": 2,
       "version_minor": 0
      },
      "text/plain": [
       "HBox(children=(FloatProgress(value=1.0, bar_style='info', description='Dl Completed...', max=1.0, style=Progre…"
      ]
     },
     "metadata": {},
     "output_type": "display_data"
    },
    {
     "data": {
      "application/vnd.jupyter.widget-view+json": {
       "model_id": "05e8e8683c674452aa558213ff05e614",
       "version_major": 2,
       "version_minor": 0
      },
      "text/plain": [
       "HBox(children=(FloatProgress(value=1.0, bar_style='info', description='Dl Size...', max=1.0, style=ProgressSty…"
      ]
     },
     "metadata": {},
     "output_type": "display_data"
    },
    {
     "name": "stdout",
     "output_type": "stream",
     "text": [
      "\n",
      "\n",
      "\n",
      "\n"
     ]
    },
    {
     "data": {
      "application/vnd.jupyter.widget-view+json": {
       "model_id": "1f525477948b4be193ddb0cad35220d7",
       "version_major": 2,
       "version_minor": 0
      },
      "text/plain": [
       "HBox(children=(FloatProgress(value=1.0, bar_style='info', max=1.0), HTML(value='')))"
      ]
     },
     "metadata": {},
     "output_type": "display_data"
    },
    {
     "name": "stdout",
     "output_type": "stream",
     "text": [
      "Shuffling and writing examples to /Users/nirum/tensorflow_datasets/imdb_reviews/subwords8k/1.0.0.incompleteC45L7G/imdb_reviews-train.tfrecord\n"
     ]
    },
    {
     "data": {
      "application/vnd.jupyter.widget-view+json": {
       "model_id": "3934e5d58e714aceb57c8d07bd6496bb",
       "version_major": 2,
       "version_minor": 0
      },
      "text/plain": [
       "HBox(children=(FloatProgress(value=0.0, max=25000.0), HTML(value='')))"
      ]
     },
     "metadata": {},
     "output_type": "display_data"
    },
    {
     "data": {
      "application/vnd.jupyter.widget-view+json": {
       "model_id": "13277ca11baa4873b09ae8868ad1c03e",
       "version_major": 2,
       "version_minor": 0
      },
      "text/plain": [
       "HBox(children=(FloatProgress(value=1.0, bar_style='info', max=1.0), HTML(value='')))"
      ]
     },
     "metadata": {},
     "output_type": "display_data"
    },
    {
     "name": "stdout",
     "output_type": "stream",
     "text": [
      "Shuffling and writing examples to /Users/nirum/tensorflow_datasets/imdb_reviews/subwords8k/1.0.0.incompleteC45L7G/imdb_reviews-test.tfrecord\n"
     ]
    },
    {
     "data": {
      "application/vnd.jupyter.widget-view+json": {
       "model_id": "72594997c0214133a88a13813d0a73a4",
       "version_major": 2,
       "version_minor": 0
      },
      "text/plain": [
       "HBox(children=(FloatProgress(value=0.0, max=25000.0), HTML(value='')))"
      ]
     },
     "metadata": {},
     "output_type": "display_data"
    },
    {
     "data": {
      "application/vnd.jupyter.widget-view+json": {
       "model_id": "6800a6edff62445aa4af2ed464516d3a",
       "version_major": 2,
       "version_minor": 0
      },
      "text/plain": [
       "HBox(children=(FloatProgress(value=1.0, bar_style='info', max=1.0), HTML(value='')))"
      ]
     },
     "metadata": {},
     "output_type": "display_data"
    },
    {
     "name": "stdout",
     "output_type": "stream",
     "text": [
      "Shuffling and writing examples to /Users/nirum/tensorflow_datasets/imdb_reviews/subwords8k/1.0.0.incompleteC45L7G/imdb_reviews-unsupervised.tfrecord\n"
     ]
    },
    {
     "data": {
      "application/vnd.jupyter.widget-view+json": {
       "model_id": "399d1985e6674d6bab3023db8fc18cdf",
       "version_major": 2,
       "version_minor": 0
      },
      "text/plain": [
       "HBox(children=(FloatProgress(value=0.0, max=50000.0), HTML(value='')))"
      ]
     },
     "metadata": {},
     "output_type": "display_data"
    },
    {
     "name": "stdout",
     "output_type": "stream",
     "text": [
      "\u001b[1mDataset imdb_reviews downloaded and prepared to /Users/nirum/tensorflow_datasets/imdb_reviews/subwords8k/1.0.0. Subsequent calls will reuse this data.\u001b[0m\n"
     ]
    }
   ],
   "source": [
    "max_pad = 1500\n",
    "batch_size = 64\n",
    "\n",
    "encoder, info, train_dset, test_dset = load_data(max_pad, batch_size)\n",
    "batch = next(tfds.as_numpy(train_dset))"
   ]
  },
  {
   "cell_type": "markdown",
   "metadata": {},
   "source": [
    "## Build RNN and train step function"
   ]
  },
  {
   "cell_type": "code",
   "execution_count": 14,
   "metadata": {},
   "outputs": [
    {
     "data": {
      "text/plain": [
       "<module 'renn.rnn.cells' from '/Users/nirum/code/reverse-engineering-neural-networks/renn/rnn/cells.py'>"
      ]
     },
     "execution_count": 14,
     "metadata": {},
     "output_type": "execute_result"
    }
   ],
   "source": [
    "renn.rnn.cells"
   ]
  },
  {
   "cell_type": "code",
   "execution_count": 33,
   "metadata": {},
   "outputs": [],
   "source": [
    "def build_rnn(vocab_size, emb_size, num_units):\n",
    "  \"\"\"Builds a single layer RNN.\"\"\"\n",
    "\n",
    "  # Build the embedding layer.\n",
    "  emb_init, emb_apply = renn.rnn.cells.embedding(vocab_size, emb_size)\n",
    "\n",
    "  # Build the RNN cell.\n",
    "  num_outputs = 1   # Logistic regression only needs a single output unit.\n",
    "  cell = renn.rnn.cells.GRU(num_units)\n",
    "  readout_init, readout_apply = stax.Dense(num_outputs)\n",
    "\n",
    "  def init_fun(prng_key, input_shape):\n",
    "    \"\"\"Initializes the network (the embedding and the RNN cell).\"\"\"\n",
    "    k0, k1, k2 = jax.random.split(prng_key, 3)\n",
    "    emb_shape, emb_params = emb_init(k0, input_shape)\n",
    "    output_shape, rnn_params = cell.init(k1, emb_shape[1:])\n",
    "    _, readout_params = readout_init(k2, output_shape)\n",
    "\n",
    "    # We explicitly add the batch dimension back in.\n",
    "    # (This is because we only applied `vmap` to the rnn_apply function above)\n",
    "    batch_output_shape = (emb_shape[0],) + output_shape\n",
    "\n",
    "    return batch_output_shape, (emb_params, rnn_params, readout_params)\n",
    "\n",
    "  def apply_fun(params, inputs):\n",
    "    \"\"\"Applies the RNN.\"\"\"\n",
    "    # Destructure parameter tuple.\n",
    "    emb_params, rnn_params, readout_params = params\n",
    "\n",
    "    # [batch, len, dim]\n",
    "    emb_inputs = emb_apply(emb_params, inputs)\n",
    "    initial_states = cell.get_initial_state(\n",
    "        rnn_params, batch_size=emb_inputs.shape[0])\n",
    "\n",
    "    batch_apply = functools.partial(cell.batch_apply, rnn_params)\n",
    "    all_logits = renn.rnn.unroll.unroll_rnn(\n",
    "        initial_states, emb_inputs, batch_apply,\n",
    "        functools.partial(readout_apply, readout_params))\n",
    "\n",
    "    return all_logits\n",
    "\n",
    "  def mask_fun(sequences, last_index):\n",
    "    \"\"\"Selects the last valid timestep from a batch of padded sequences.\"\"\"\n",
    "    last_index = last_index[:, jnp.newaxis, jnp.newaxis]\n",
    "    return jnp.squeeze(jnp.take_along_axis(sequences, last_index, axis=1))\n",
    "\n",
    "  def sigmoid_xent_with_logits(logits, labels):\n",
    "    return jnp.maximum(logits, 0) - logits * labels + \\\n",
    "        jnp.log(1 + jnp.exp(-jnp.abs(logits)))\n",
    "\n",
    "  def loss_fun(params, batch):\n",
    "    \"\"\"Cross-entropy loss function.\"\"\"\n",
    "    all_logits = apply_fun(params, batch['inputs'])\n",
    "    logits = mask_fun(all_logits, batch['index'])\n",
    "    losses = sigmoid_xent_with_logits(logits, batch['labels'])\n",
    "\n",
    "    # Average over the batch and convert from nats to bits.\n",
    "    return jnp.mean(losses) / jnp.log(2.)\n",
    "\n",
    "  @jax.jit\n",
    "  def accuracy_fun(params, batch):\n",
    "    all_logits = apply_fun(params, batch['inputs'])\n",
    "    logits = mask_fun(all_logits, batch['index'])\n",
    "    predictions = (logits >= 0.).astype(jnp.int32)\n",
    "    return batch['labels'] == predictions\n",
    "\n",
    "  return init_fun, apply_fun, mask_fun, loss_fun, accuracy_fun\n",
    "\n",
    "\n",
    "def build_optimizer_step(optimizer, initial_params, loss_fun):\n",
    "  \"\"\"Builds training step function.\"\"\"\n",
    "\n",
    "  # Destructure the optimizer triple.\n",
    "  init_opt, update_opt, get_params = optimizer\n",
    "  opt_state = init_opt(initial_params)\n",
    "\n",
    "  @jax.jit\n",
    "  def optimizer_step(current_step, state, batch):\n",
    "    \"\"\"Takes a single optimization step.\"\"\"\n",
    "    p = get_params(state)\n",
    "    loss, gradients = jax.value_and_grad(loss_fun)(p, batch)\n",
    "    new_state = update_opt(current_step, gradients, state)\n",
    "    return current_step + 1, new_state, loss\n",
    "\n",
    "  return opt_state, optimizer_step"
   ]
  },
  {
   "cell_type": "code",
   "execution_count": 34,
   "metadata": {},
   "outputs": [],
   "source": [
    "emb_size = 128\n",
    "num_units = 256\n",
    "prng_key = jax.random.PRNGKey(0)\n",
    "\n",
    "init_fun, apply_fun, mask_fun, loss_fun, accuracy_fun = build_rnn(encoder.vocab_size, emb_size, num_units)\n",
    "output_shape, initial_params = init_fun(prng_key, batch['inputs'].shape)"
   ]
  },
  {
   "cell_type": "code",
   "execution_count": 35,
   "metadata": {},
   "outputs": [],
   "source": [
    "learning_rate = optimizers.exponential_decay(1e-3, 1000, 0.2)\n",
    "opt = optimizers.adam(learning_rate)\n",
    "\n",
    "opt_state, step_fun = build_optimizer_step(opt, initial_params, loss_fun)\n",
    "global_step = 0\n",
    "train_losses = []"
   ]
  },
  {
   "cell_type": "markdown",
   "metadata": {},
   "source": [
    "## Run training loop."
   ]
  },
  {
   "cell_type": "code",
   "execution_count": 36,
   "metadata": {},
   "outputs": [],
   "source": [
    "from tqdm.notebook import tqdm"
   ]
  },
  {
   "cell_type": "code",
   "execution_count": 37,
   "metadata": {},
   "outputs": [
    {
     "data": {
      "application/vnd.jupyter.widget-view+json": {
       "model_id": "44a1e58c3fb04532ad248dde33ceabba",
       "version_major": 2,
       "version_minor": 0
      },
      "text/plain": [
       "HBox(children=(FloatProgress(value=0.0, max=390.0), HTML(value='')))"
      ]
     },
     "metadata": {},
     "output_type": "display_data"
    },
    {
     "name": "stdout",
     "output_type": "stream",
     "text": [
      "\n"
     ]
    },
    {
     "ename": "KeyboardInterrupt",
     "evalue": "",
     "output_type": "error",
     "traceback": [
      "\u001b[0;31m---------------------------------------------------------------------------\u001b[0m",
      "\u001b[0;31mKeyboardInterrupt\u001b[0m                         Traceback (most recent call last)",
      "\u001b[0;32m<ipython-input-37-40bca40bc7a6>\u001b[0m in \u001b[0;36m<module>\u001b[0;34m\u001b[0m\n\u001b[1;32m     12\u001b[0m   \u001b[0;31m# Training epoch.\u001b[0m\u001b[0;34m\u001b[0m\u001b[0;34m\u001b[0m\u001b[0;34m\u001b[0m\u001b[0m\n\u001b[1;32m     13\u001b[0m   \u001b[0;32mfor\u001b[0m \u001b[0mbatch\u001b[0m \u001b[0;32min\u001b[0m \u001b[0mtqdm\u001b[0m\u001b[0;34m(\u001b[0m\u001b[0mtfds\u001b[0m\u001b[0;34m.\u001b[0m\u001b[0mas_numpy\u001b[0m\u001b[0;34m(\u001b[0m\u001b[0mtrain_dset\u001b[0m\u001b[0;34m)\u001b[0m\u001b[0;34m,\u001b[0m \u001b[0mtotal\u001b[0m\u001b[0;34m=\u001b[0m\u001b[0mnum_batches\u001b[0m\u001b[0;34m)\u001b[0m\u001b[0;34m:\u001b[0m\u001b[0;34m\u001b[0m\u001b[0;34m\u001b[0m\u001b[0m\n\u001b[0;32m---> 14\u001b[0;31m     \u001b[0mglobal_step\u001b[0m\u001b[0;34m,\u001b[0m \u001b[0mopt_state\u001b[0m\u001b[0;34m,\u001b[0m \u001b[0mloss\u001b[0m \u001b[0;34m=\u001b[0m \u001b[0mstep_fun\u001b[0m\u001b[0;34m(\u001b[0m\u001b[0mglobal_step\u001b[0m\u001b[0;34m,\u001b[0m \u001b[0mopt_state\u001b[0m\u001b[0;34m,\u001b[0m \u001b[0mbatch\u001b[0m\u001b[0;34m)\u001b[0m\u001b[0;34m\u001b[0m\u001b[0;34m\u001b[0m\u001b[0m\n\u001b[0m\u001b[1;32m     15\u001b[0m     \u001b[0mtrain_losses\u001b[0m\u001b[0;34m.\u001b[0m\u001b[0mappend\u001b[0m\u001b[0;34m(\u001b[0m\u001b[0mloss\u001b[0m\u001b[0;34m)\u001b[0m\u001b[0;34m\u001b[0m\u001b[0;34m\u001b[0m\u001b[0m\n\u001b[1;32m     16\u001b[0m \u001b[0;34m\u001b[0m\u001b[0m\n",
      "\u001b[0;32m~/anaconda3/lib/python3.7/site-packages/jax/api.py\u001b[0m in \u001b[0;36mf_jitted\u001b[0;34m(*args, **kwargs)\u001b[0m\n\u001b[1;32m    168\u001b[0m     \u001b[0mflat_fun\u001b[0m\u001b[0;34m,\u001b[0m \u001b[0mout_tree\u001b[0m \u001b[0;34m=\u001b[0m \u001b[0mflatten_fun\u001b[0m\u001b[0;34m(\u001b[0m\u001b[0mf\u001b[0m\u001b[0;34m,\u001b[0m \u001b[0min_tree\u001b[0m\u001b[0;34m)\u001b[0m\u001b[0;34m\u001b[0m\u001b[0;34m\u001b[0m\u001b[0m\n\u001b[1;32m    169\u001b[0m     out = xla.xla_call(flat_fun, *args_flat, device=device, backend=backend,\n\u001b[0;32m--> 170\u001b[0;31m                        name=flat_fun.__name__, donated_invars=donated_invars)\n\u001b[0m\u001b[1;32m    171\u001b[0m     \u001b[0;32mreturn\u001b[0m \u001b[0mtree_unflatten\u001b[0m\u001b[0;34m(\u001b[0m\u001b[0mout_tree\u001b[0m\u001b[0;34m(\u001b[0m\u001b[0;34m)\u001b[0m\u001b[0;34m,\u001b[0m \u001b[0mout\u001b[0m\u001b[0;34m)\u001b[0m\u001b[0;34m\u001b[0m\u001b[0;34m\u001b[0m\u001b[0m\n\u001b[1;32m    172\u001b[0m \u001b[0;34m\u001b[0m\u001b[0m\n",
      "\u001b[0;32m~/anaconda3/lib/python3.7/site-packages/jax/core.py\u001b[0m in \u001b[0;36mcall_bind\u001b[0;34m(primitive, fun, *args, **params)\u001b[0m\n\u001b[1;32m   1096\u001b[0m   \u001b[0;32mif\u001b[0m \u001b[0mtop_trace\u001b[0m \u001b[0;32mis\u001b[0m \u001b[0;32mNone\u001b[0m\u001b[0;34m:\u001b[0m\u001b[0;34m\u001b[0m\u001b[0;34m\u001b[0m\u001b[0m\n\u001b[1;32m   1097\u001b[0m     \u001b[0;32mwith\u001b[0m \u001b[0mnew_sublevel\u001b[0m\u001b[0;34m(\u001b[0m\u001b[0;34m)\u001b[0m\u001b[0;34m:\u001b[0m\u001b[0;34m\u001b[0m\u001b[0;34m\u001b[0m\u001b[0m\n\u001b[0;32m-> 1098\u001b[0;31m       \u001b[0mouts\u001b[0m \u001b[0;34m=\u001b[0m \u001b[0mprimitive\u001b[0m\u001b[0;34m.\u001b[0m\u001b[0mimpl\u001b[0m\u001b[0;34m(\u001b[0m\u001b[0mfun\u001b[0m\u001b[0;34m,\u001b[0m \u001b[0;34m*\u001b[0m\u001b[0margs\u001b[0m\u001b[0;34m,\u001b[0m \u001b[0;34m**\u001b[0m\u001b[0mparams\u001b[0m\u001b[0;34m)\u001b[0m\u001b[0;34m\u001b[0m\u001b[0;34m\u001b[0m\u001b[0m\n\u001b[0m\u001b[1;32m   1099\u001b[0m   \u001b[0;32melse\u001b[0m\u001b[0;34m:\u001b[0m\u001b[0;34m\u001b[0m\u001b[0;34m\u001b[0m\u001b[0m\n\u001b[1;32m   1100\u001b[0m     \u001b[0mtracers\u001b[0m \u001b[0;34m=\u001b[0m \u001b[0mmap\u001b[0m\u001b[0;34m(\u001b[0m\u001b[0mtop_trace\u001b[0m\u001b[0;34m.\u001b[0m\u001b[0mfull_raise\u001b[0m\u001b[0;34m,\u001b[0m \u001b[0margs\u001b[0m\u001b[0;34m)\u001b[0m\u001b[0;34m\u001b[0m\u001b[0;34m\u001b[0m\u001b[0m\n",
      "\u001b[0;32m~/anaconda3/lib/python3.7/site-packages/jax/interpreters/xla.py\u001b[0m in \u001b[0;36m_xla_call_impl\u001b[0;34m(fun, device, backend, name, donated_invars, *args)\u001b[0m\n\u001b[1;32m    538\u001b[0m                                *unsafe_map(arg_spec, args))\n\u001b[1;32m    539\u001b[0m   \u001b[0;32mtry\u001b[0m\u001b[0;34m:\u001b[0m\u001b[0;34m\u001b[0m\u001b[0;34m\u001b[0m\u001b[0m\n\u001b[0;32m--> 540\u001b[0;31m     \u001b[0;32mreturn\u001b[0m \u001b[0mcompiled_fun\u001b[0m\u001b[0;34m(\u001b[0m\u001b[0;34m*\u001b[0m\u001b[0margs\u001b[0m\u001b[0;34m)\u001b[0m\u001b[0;34m\u001b[0m\u001b[0;34m\u001b[0m\u001b[0m\n\u001b[0m\u001b[1;32m    541\u001b[0m   \u001b[0;32mexcept\u001b[0m \u001b[0mFloatingPointError\u001b[0m\u001b[0;34m:\u001b[0m\u001b[0;34m\u001b[0m\u001b[0;34m\u001b[0m\u001b[0m\n\u001b[1;32m    542\u001b[0m     print(\"Invalid value encountered in the output of a jit function. \"\n",
      "\u001b[0;32m~/anaconda3/lib/python3.7/site-packages/jax/interpreters/xla.py\u001b[0m in \u001b[0;36m_execute_compiled\u001b[0;34m(compiled, handlers, *args)\u001b[0m\n\u001b[1;32m    768\u001b[0m   \u001b[0mdevice\u001b[0m\u001b[0;34m,\u001b[0m \u001b[0;34m=\u001b[0m \u001b[0mcompiled\u001b[0m\u001b[0;34m.\u001b[0m\u001b[0mlocal_devices\u001b[0m\u001b[0;34m(\u001b[0m\u001b[0;34m)\u001b[0m\u001b[0;34m\u001b[0m\u001b[0;34m\u001b[0m\u001b[0m\n\u001b[1;32m    769\u001b[0m   \u001b[0minput_bufs\u001b[0m \u001b[0;34m=\u001b[0m \u001b[0;34m[\u001b[0m\u001b[0mdevice_put\u001b[0m\u001b[0;34m(\u001b[0m\u001b[0mx\u001b[0m\u001b[0;34m,\u001b[0m \u001b[0mdevice\u001b[0m\u001b[0;34m)\u001b[0m \u001b[0;32mfor\u001b[0m \u001b[0mx\u001b[0m \u001b[0;32min\u001b[0m \u001b[0margs\u001b[0m \u001b[0;32mif\u001b[0m \u001b[0mx\u001b[0m \u001b[0;32mis\u001b[0m \u001b[0;32mnot\u001b[0m \u001b[0mtoken\u001b[0m\u001b[0;34m]\u001b[0m\u001b[0;34m\u001b[0m\u001b[0;34m\u001b[0m\u001b[0m\n\u001b[0;32m--> 770\u001b[0;31m   \u001b[0mout_bufs\u001b[0m \u001b[0;34m=\u001b[0m \u001b[0mcompiled\u001b[0m\u001b[0;34m.\u001b[0m\u001b[0mexecute\u001b[0m\u001b[0;34m(\u001b[0m\u001b[0minput_bufs\u001b[0m\u001b[0;34m)\u001b[0m\u001b[0;34m\u001b[0m\u001b[0;34m\u001b[0m\u001b[0m\n\u001b[0m\u001b[1;32m    771\u001b[0m   \u001b[0;32mif\u001b[0m \u001b[0mFLAGS\u001b[0m\u001b[0;34m.\u001b[0m\u001b[0mjax_debug_nans\u001b[0m\u001b[0;34m:\u001b[0m \u001b[0mcheck_nans\u001b[0m\u001b[0;34m(\u001b[0m\u001b[0mxla_call_p\u001b[0m\u001b[0;34m,\u001b[0m \u001b[0mout_bufs\u001b[0m\u001b[0;34m)\u001b[0m\u001b[0;34m\u001b[0m\u001b[0;34m\u001b[0m\u001b[0m\n\u001b[1;32m    772\u001b[0m   \u001b[0;32mreturn\u001b[0m \u001b[0;34m[\u001b[0m\u001b[0mhandler\u001b[0m\u001b[0;34m(\u001b[0m\u001b[0mout_buf\u001b[0m\u001b[0;34m)\u001b[0m \u001b[0;32mfor\u001b[0m \u001b[0mhandler\u001b[0m\u001b[0;34m,\u001b[0m \u001b[0mout_buf\u001b[0m \u001b[0;32min\u001b[0m \u001b[0mzip\u001b[0m\u001b[0;34m(\u001b[0m\u001b[0mhandlers\u001b[0m\u001b[0;34m,\u001b[0m \u001b[0mout_bufs\u001b[0m\u001b[0;34m)\u001b[0m\u001b[0;34m]\u001b[0m\u001b[0;34m\u001b[0m\u001b[0;34m\u001b[0m\u001b[0m\n",
      "\u001b[0;31mKeyboardInterrupt\u001b[0m: "
     ]
    }
   ],
   "source": [
    "num_examples = info.splits['train'].num_examples\n",
    "num_batches = num_examples // batch_size\n",
    "\n",
    "def test_accuracy(params):\n",
    "  _accs = []\n",
    "  for batch in tqdm(tfds.as_numpy(test_dset), total=num_batches):\n",
    "    _accs += accuracy_fun(params, batch)\n",
    "  return np.mean(_accs)\n",
    "  \n",
    "for epoch in range(4):\n",
    "\n",
    "  # Training epoch.\n",
    "  for batch in tqdm(tfds.as_numpy(train_dset), total=num_batches):\n",
    "    global_step, opt_state, loss = step_fun(global_step, opt_state, batch)\n",
    "    train_losses.append(loss)\n",
    "  \n",
    "  # Testing epoch.\n",
    "  test_acc = test_accuracy(opt[2](opt_state))\n",
    "  print(f'[Epoch {epoch+1:02d}] Test Acc: {100 * test_acc:03f}')"
   ]
  },
  {
   "cell_type": "code",
   "execution_count": 38,
   "metadata": {},
   "outputs": [],
   "source": [
    "final_params = opt[2](opt_state)\n",
    "emb_params, rnn_params, readout_params = final_params"
   ]
  },
  {
   "cell_type": "markdown",
   "metadata": {},
   "source": [
    "## Analysis"
   ]
  },
  {
   "cell_type": "markdown",
   "metadata": {},
   "source": [
    "### Build function to get RNN hidden states."
   ]
  },
  {
   "cell_type": "code",
   "execution_count": 39,
   "metadata": {},
   "outputs": [],
   "source": [
    "from sklearn.decomposition import PCA"
   ]
  },
  {
   "cell_type": "code",
   "execution_count": null,
   "metadata": {},
   "outputs": [],
   "source": [
    "renn.unroll_rnn"
   ]
  },
  {
   "cell_type": "code",
   "execution_count": 46,
   "metadata": {},
   "outputs": [],
   "source": [
    "emb_init, emb_apply = renn.embedding(encoder.vocab_size, emb_size)\n",
    "cell = renn.GRU(num_units)\n",
    "\n",
    "@jax.jit\n",
    "def _get_all_states(inputs):\n",
    "  \"\"\"Get RNN states in response to a batch of inputs (also returns masked states).\"\"\"\n",
    "  rnn_inputs = emb_apply(emb_params, inputs)\n",
    "  initial_states = cell.get_initial_state(rnn_params, batch_size=rnn_inputs.shape[0])\n",
    "  return renn.unroll_rnn(initial_states, rnn_inputs, functools.partial(cell.batch_apply, rnn_params))\n",
    "\n",
    "def rnn_states(batch):\n",
    "  \"\"\"Return (masked) RNN states.\"\"\"\n",
    "  states = _get_all_states(batch['inputs'])\n",
    "  return [h[:idx] for h, idx in zip(states, batch['index'])]"
   ]
  },
  {
   "cell_type": "markdown",
   "metadata": {},
   "source": [
    "### Get RNN states during some test examples."
   ]
  },
  {
   "cell_type": "code",
   "execution_count": 47,
   "metadata": {},
   "outputs": [
    {
     "data": {
      "text/plain": [
       "(10203, 256)"
      ]
     },
     "execution_count": 47,
     "metadata": {},
     "output_type": "execute_result"
    }
   ],
   "source": [
    "test_batch = next(tfds.as_numpy(test_dset))\n",
    "\n",
    "hs = rnn_states(test_batch)\n",
    "pts = np.vstack(hs)[::2]\n",
    "pts.shape"
   ]
  },
  {
   "cell_type": "code",
   "execution_count": 48,
   "metadata": {},
   "outputs": [],
   "source": [
    "pos_states = [h for h, lbl in zip(hs, batch['labels']) if lbl == 1]\n",
    "neg_states = [h for h, lbl in zip(hs, batch['labels']) if lbl == 0]"
   ]
  },
  {
   "cell_type": "code",
   "execution_count": 49,
   "metadata": {},
   "outputs": [],
   "source": [
    "pca = PCA(n_components=2).fit(pts)"
   ]
  },
  {
   "cell_type": "code",
   "execution_count": 50,
   "metadata": {},
   "outputs": [
    {
     "data": {
      "text/plain": [
       "(256,)"
      ]
     },
     "execution_count": 50,
     "metadata": {},
     "output_type": "execute_result"
    }
   ],
   "source": [
    "h0 = cell.get_initial_state(rnn_params)\n",
    "h0.shape"
   ]
  },
  {
   "cell_type": "code",
   "execution_count": 51,
   "metadata": {},
   "outputs": [
    {
     "data": {
      "text/plain": [
       "(-5.0, 5.0)"
      ]
     },
     "execution_count": 51,
     "metadata": {},
     "output_type": "execute_result"
    },
    {
     "data": {
      "image/png": "[encoded data removed]",
      "text/plain": [
       "<Figure size 288x288 with 1 Axes>"
      ]
     },
     "metadata": {
      "needs_background": "light"
     },
     "output_type": "display_data"
    }
   ],
   "source": [
    "plt.figure(figsize=(4, 4))\n",
    "\n",
    "x, y = pca.transform(np.vstack(pos_states)).T\n",
    "plt.plot(x, y, 'go', alpha=0.2)\n",
    "\n",
    "x, y = pca.transform(np.vstack(neg_states)).T\n",
    "plt.plot(x, y, 'ro', alpha=0.05)\n",
    "\n",
    "x0, y0 = pca.transform(np.atleast_2d(h0)).T\n",
    "plt.plot(x0, y0, 'ws')\n",
    "\n",
    "plt.xlim(-5, 5)\n",
    "plt.ylim(-5, 5)"
   ]
  },
  {
   "cell_type": "markdown",
   "metadata": {},
   "source": [
    "### Fixed point analysis"
   ]
  },
  {
   "cell_type": "code",
   "execution_count": 52,
   "metadata": {},
   "outputs": [],
   "source": [
    "fp_loss_fun = renn.build_fixed_point_loss(cell, rnn_params)"
   ]
  },
  {
   "cell_type": "code",
   "execution_count": 55,
   "metadata": {},
   "outputs": [
    {
     "name": "stderr",
     "output_type": "stream",
     "text": [
      "  1%|          | 68/10000 [00:06<16:32, 10.00it/s] \n"
     ]
    }
   ],
   "source": [
    "fixed_points, loss_hist, fp_losses = renn.find_fixed_points(fp_loss_fun, pts,\n",
    "                                                            jnp.zeros((pts.shape[0], 128)),\n",
    "                                                            optimizers.adam(0.01),\n",
    "                                                            tolerance=1e-5)"
   ]
  },
  {
   "cell_type": "code",
   "execution_count": 56,
   "metadata": {},
   "outputs": [
    {
     "data": {
      "text/plain": [
       "[<matplotlib.lines.Line2D at 0x7f9ac6034750>]"
      ]
     },
     "execution_count": 56,
     "metadata": {},
     "output_type": "execute_result"
    },
    {
     "data": {
      "image/png": "[encoded data removed]",
      "text/plain": [
       "<Figure size 432x288 with 1 Axes>"
      ]
     },
     "metadata": {
      "needs_background": "light"
     },
     "output_type": "display_data"
    }
   ],
   "source": [
    "plt.semilogy(loss_hist)"
   ]
  },
  {
   "cell_type": "code",
   "execution_count": 57,
   "metadata": {},
   "outputs": [
    {
     "data": {
      "text/plain": [
       "<matplotlib.colorbar.Colorbar at 0x7f9ac02a1dd0>"
      ]
     },
     "execution_count": 57,
     "metadata": {},
     "output_type": "execute_result"
    },
    {
     "data": {
      "image/png": "[encoded data removed]",
      "text/plain": [
       "<Figure size 360x288 with 2 Axes>"
      ]
     },
     "metadata": {
      "needs_background": "light"
     },
     "output_type": "display_data"
    }
   ],
   "source": [
    "plt.figure(figsize=(5, 4))\n",
    "x, y = pca.transform(fixed_points).T\n",
    "plt.scatter(x, y, s=20, c=np.log10(fp_losses))\n",
    "plt.xlim(-8, 8)\n",
    "plt.ylim(-8, 8)\n",
    "plt.grid()\n",
    "\n",
    "plt.plot(x0, y0, '*', color='lightcoral', ms=18)\n",
    "plt.title('line attractor')\n",
    "\n",
    "plt.colorbar()"
   ]
  },
  {
   "cell_type": "markdown",
   "metadata": {},
   "source": [
    "### Jacobian analysis"
   ]
  },
  {
   "cell_type": "code",
   "execution_count": 58,
   "metadata": {},
   "outputs": [],
   "source": [
    "# pick a fixed point.\n",
    "fp_idx = np.argmin(fp_losses)\n",
    "fp = fixed_points[fp_idx]"
   ]
  },
  {
   "cell_type": "code",
   "execution_count": 61,
   "metadata": {},
   "outputs": [],
   "source": [
    "jac = jax.device_get(cell.rec_jac(rnn_params, jnp.zeros(128), fp))\n",
    "\n",
    "R, E, L = renn.eigsorted(jac)"
   ]
  },
  {
   "cell_type": "code",
   "execution_count": 63,
   "metadata": {},
   "outputs": [
    {
     "data": {
      "text/plain": [
       "Text(0, 0.5, 'imag')"
      ]
     },
     "execution_count": 63,
     "metadata": {},
     "output_type": "execute_result"
    },
    {
     "data": {
      "image/png": "[encoded data removed]",
      "text/plain": [
       "<Figure size 288x288 with 1 Axes>"
      ]
     },
     "metadata": {
      "needs_background": "light"
     },
     "output_type": "display_data"
    }
   ],
   "source": [
    "plt.figure(figsize=(4, 4))\n",
    "plt.plot(np.real(E), np.imag(E), 'o', ms=10)\n",
    "plt.grid()\n",
    "plt.xlim(0, 1.2)\n",
    "plt.ylim(-0.6, 0.6)\n",
    "\n",
    "plt.title('Jacobian eigenvalues')\n",
    "plt.xlabel('real')\n",
    "plt.ylabel('imag')"
   ]
  },
  {
   "cell_type": "code",
   "execution_count": null,
   "metadata": {},
   "outputs": [],
   "source": []
  }
 ],
 "metadata": {
  "kernelspec": {
   "display_name": "Python 3",
   "language": "python",
   "name": "python3"
  },
  "language_info": {
   "codemirror_mode": {
    "name": "ipython",
    "version": 3
   },
   "file_extension": ".py",
   "mimetype": "text/x-python",
   "name": "python",
   "nbconvert_exporter": "python",
   "pygments_lexer": "ipython3",
   "version": "3.7.7"
  }
 },
 "nbformat": 4,
 "nbformat_minor": 4
}
